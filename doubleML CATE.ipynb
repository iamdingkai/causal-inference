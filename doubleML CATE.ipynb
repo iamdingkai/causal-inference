{
 "cells": [
  {
   "cell_type": "code",
   "execution_count": null,
   "metadata": {},
   "outputs": [],
   "source": [
    "# Reference: https://docs.doubleml.org/stable/examples/py_double_ml_cate.html\n",
    "# for personal study purposes only"
   ]
  },
  {
   "cell_type": "code",
   "execution_count": 3,
   "metadata": {},
   "outputs": [],
   "source": [
    "import numpy as np\n",
    "import pandas as pd\n",
    "import doubleml as dml\n",
    "\n",
    "from doubleml.datasets import make_heterogeneous_data\n"
   ]
  },
  {
   "cell_type": "code",
   "execution_count": 4,
   "metadata": {},
   "outputs": [
    {
     "data": {
      "text/html": [
       "<div>\n",
       "<style scoped>\n",
       "    .dataframe tbody tr th:only-of-type {\n",
       "        vertical-align: middle;\n",
       "    }\n",
       "\n",
       "    .dataframe tbody tr th {\n",
       "        vertical-align: top;\n",
       "    }\n",
       "\n",
       "    .dataframe thead th {\n",
       "        text-align: right;\n",
       "    }\n",
       "</style>\n",
       "<table border=\"1\" class=\"dataframe\">\n",
       "  <thead>\n",
       "    <tr style=\"text-align: right;\">\n",
       "      <th></th>\n",
       "      <th>y</th>\n",
       "      <th>d</th>\n",
       "      <th>X_0</th>\n",
       "      <th>X_1</th>\n",
       "      <th>X_2</th>\n",
       "      <th>X_3</th>\n",
       "      <th>X_4</th>\n",
       "      <th>X_5</th>\n",
       "      <th>X_6</th>\n",
       "      <th>X_7</th>\n",
       "      <th>X_8</th>\n",
       "      <th>X_9</th>\n",
       "    </tr>\n",
       "  </thead>\n",
       "  <tbody>\n",
       "    <tr>\n",
       "      <th>0</th>\n",
       "      <td>4.803300</td>\n",
       "      <td>1.0</td>\n",
       "      <td>0.259828</td>\n",
       "      <td>0.886086</td>\n",
       "      <td>0.895690</td>\n",
       "      <td>0.297287</td>\n",
       "      <td>0.229994</td>\n",
       "      <td>0.411304</td>\n",
       "      <td>0.240532</td>\n",
       "      <td>0.672384</td>\n",
       "      <td>0.826065</td>\n",
       "      <td>0.673092</td>\n",
       "    </tr>\n",
       "    <tr>\n",
       "      <th>1</th>\n",
       "      <td>5.655547</td>\n",
       "      <td>1.0</td>\n",
       "      <td>0.824350</td>\n",
       "      <td>0.396992</td>\n",
       "      <td>0.156317</td>\n",
       "      <td>0.737951</td>\n",
       "      <td>0.360475</td>\n",
       "      <td>0.671271</td>\n",
       "      <td>0.270644</td>\n",
       "      <td>0.081230</td>\n",
       "      <td>0.992582</td>\n",
       "      <td>0.156202</td>\n",
       "    </tr>\n",
       "    <tr>\n",
       "      <th>2</th>\n",
       "      <td>1.878402</td>\n",
       "      <td>0.0</td>\n",
       "      <td>0.988421</td>\n",
       "      <td>0.977280</td>\n",
       "      <td>0.793818</td>\n",
       "      <td>0.659423</td>\n",
       "      <td>0.577807</td>\n",
       "      <td>0.866102</td>\n",
       "      <td>0.289440</td>\n",
       "      <td>0.467681</td>\n",
       "      <td>0.619390</td>\n",
       "      <td>0.411190</td>\n",
       "    </tr>\n",
       "    <tr>\n",
       "      <th>3</th>\n",
       "      <td>6.941440</td>\n",
       "      <td>1.0</td>\n",
       "      <td>0.427486</td>\n",
       "      <td>0.330285</td>\n",
       "      <td>0.564232</td>\n",
       "      <td>0.850575</td>\n",
       "      <td>0.201528</td>\n",
       "      <td>0.934433</td>\n",
       "      <td>0.689088</td>\n",
       "      <td>0.823273</td>\n",
       "      <td>0.556191</td>\n",
       "      <td>0.779517</td>\n",
       "    </tr>\n",
       "    <tr>\n",
       "      <th>4</th>\n",
       "      <td>1.703049</td>\n",
       "      <td>1.0</td>\n",
       "      <td>0.016200</td>\n",
       "      <td>0.818380</td>\n",
       "      <td>0.040139</td>\n",
       "      <td>0.889913</td>\n",
       "      <td>0.991963</td>\n",
       "      <td>0.294067</td>\n",
       "      <td>0.210319</td>\n",
       "      <td>0.765363</td>\n",
       "      <td>0.253026</td>\n",
       "      <td>0.865562</td>\n",
       "    </tr>\n",
       "  </tbody>\n",
       "</table>\n",
       "</div>"
      ],
      "text/plain": [
       "          y    d       X_0       X_1       X_2       X_3       X_4       X_5  \\\n",
       "0  4.803300  1.0  0.259828  0.886086  0.895690  0.297287  0.229994  0.411304   \n",
       "1  5.655547  1.0  0.824350  0.396992  0.156317  0.737951  0.360475  0.671271   \n",
       "2  1.878402  0.0  0.988421  0.977280  0.793818  0.659423  0.577807  0.866102   \n",
       "3  6.941440  1.0  0.427486  0.330285  0.564232  0.850575  0.201528  0.934433   \n",
       "4  1.703049  1.0  0.016200  0.818380  0.040139  0.889913  0.991963  0.294067   \n",
       "\n",
       "        X_6       X_7       X_8       X_9  \n",
       "0  0.240532  0.672384  0.826065  0.673092  \n",
       "1  0.270644  0.081230  0.992582  0.156202  \n",
       "2  0.289440  0.467681  0.619390  0.411190  \n",
       "3  0.689088  0.823273  0.556191  0.779517  \n",
       "4  0.210319  0.765363  0.253026  0.865562  "
      ]
     },
     "execution_count": 4,
     "metadata": {},
     "output_type": "execute_result"
    }
   ],
   "source": [
    "np.random.seed(42)\n",
    "data_dict = make_heterogeneous_data(\n",
    "    n_obs=2000,\n",
    "    p=10,\n",
    "    support_size=5,\n",
    "    n_x=1,\n",
    "    binary_treatment=True,\n",
    ")\n",
    "treatment_effect = data_dict['treatment_effect']\n",
    "data = data_dict['data']\n",
    "data.head()"
   ]
  },
  {
   "cell_type": "code",
   "execution_count": 6,
   "metadata": {},
   "outputs": [
    {
     "data": {
      "text/plain": [
       "1.0    1348\n",
       "0.0     652\n",
       "Name: d, dtype: int64"
      ]
     },
     "execution_count": 6,
     "metadata": {},
     "output_type": "execute_result"
    }
   ],
   "source": [
    "data['d'].value_counts()"
   ]
  },
  {
   "cell_type": "code",
   "execution_count": 7,
   "metadata": {},
   "outputs": [],
   "source": [
    "data_dml_base = dml.DoubleMLData(\n",
    "    data,\n",
    "    y_col='y',\n",
    "    d_cols='d',\n",
    ")"
   ]
  },
  {
   "cell_type": "code",
   "execution_count": 8,
   "metadata": {},
   "outputs": [
    {
     "name": "stdout",
     "output_type": "stream",
     "text": [
      "Training IRM model\n",
      "       coef   std err           t  P>|t|     2.5 %    97.5 %\n",
      "d  4.463269  0.040742  109.549722    0.0  4.383417  4.543122\n"
     ]
    }
   ],
   "source": [
    "# first stage estimation\n",
    "from sklearn.ensemble import RandomForestClassifier, RandomForestRegressor\n",
    "rf_reg = RandomForestRegressor(n_estimators=500)\n",
    "rf_class = RandomForestClassifier(n_estimators=500)\n",
    "\n",
    "dml_irm = dml.DoubleMLIRM(\n",
    "    data_dml_base,\n",
    "    ml_g=rf_reg,\n",
    "    ml_m=rf_class,\n",
    "    trimming_threshold=0.05,\n",
    "    n_folds=5,\n",
    ")\n",
    "print('Training IRM model')\n",
    "dml_irm.fit()\n",
    "\n",
    "print(dml_irm.summary)"
   ]
  },
  {
   "cell_type": "code",
   "execution_count": 9,
   "metadata": {},
   "outputs": [],
   "source": [
    "import patsy\n",
    "design_matrix = patsy.dmatrix(\"bs(x, df=5, degree=2)\", {\"x\": data['X_0']})\n",
    "spline_basis = pd.DataFrame(design_matrix)"
   ]
  },
  {
   "cell_type": "code",
   "execution_count": 10,
   "metadata": {},
   "outputs": [
    {
     "name": "stdout",
     "output_type": "stream",
     "text": [
      "================== DoubleMLBLP Object ==================\n",
      "\n",
      "------------------ Fit summary ------------------\n",
      "       coef   std err          t          P>|t|    [0.025    0.975]\n",
      "0  0.664965  0.160692   4.138127   3.647140e-05  0.349823  0.980108\n",
      "1  2.368294  0.267523   8.852679   1.844643e-18  1.843641  2.892948\n",
      "2  4.895260  0.171981  28.463894  7.630576e-150  4.557978  5.232543\n",
      "3  4.782712  0.205983  23.219002  9.290475e-106  4.378748  5.186675\n",
      "4  3.731584  0.209254  17.832803   4.072845e-66  3.321204  4.141963\n",
      "5  4.328082  0.224902  19.244278   7.765736e-76  3.887014  4.769150\n"
     ]
    }
   ],
   "source": [
    "cate = dml_irm.cate(spline_basis)\n",
    "print(cate)"
   ]
  },
  {
   "cell_type": "code",
   "execution_count": null,
   "metadata": {},
   "outputs": [],
   "source": []
  },
  {
   "cell_type": "code",
   "execution_count": null,
   "metadata": {},
   "outputs": [],
   "source": []
  },
  {
   "cell_type": "code",
   "execution_count": null,
   "metadata": {},
   "outputs": [],
   "source": []
  },
  {
   "cell_type": "code",
   "execution_count": null,
   "metadata": {},
   "outputs": [],
   "source": []
  }
 ],
 "metadata": {
  "kernelspec": {
   "display_name": "base",
   "language": "python",
   "name": "python3"
  },
  "language_info": {
   "codemirror_mode": {
    "name": "ipython",
    "version": 3
   },
   "file_extension": ".py",
   "mimetype": "text/x-python",
   "name": "python",
   "nbconvert_exporter": "python",
   "pygments_lexer": "ipython3",
   "version": "3.10.9"
  }
 },
 "nbformat": 4,
 "nbformat_minor": 2
}
