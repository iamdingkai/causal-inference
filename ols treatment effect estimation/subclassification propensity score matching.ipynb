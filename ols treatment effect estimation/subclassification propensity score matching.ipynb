{
 "cells": [
  {
   "cell_type": "code",
   "execution_count": null,
   "metadata": {},
   "outputs": [],
   "source": [
    "## Reference: https://www.youtube.com/watch?v=xekqR10lQNo\n",
    "## For personal study purposes only\n"
   ]
  },
  {
   "cell_type": "code",
   "execution_count": null,
   "metadata": {},
   "outputs": [],
   "source": []
  },
  {
   "cell_type": "markdown",
   "metadata": {},
   "source": [
    "## subclassification \n",
    "\n",
    "* stratify propensity scores into bins\n",
    "* compare the treatment and control units within the bins to get the treatment effect estimation"
   ]
  },
  {
   "cell_type": "code",
   "execution_count": 1,
   "metadata": {},
   "outputs": [],
   "source": [
    "from dowhy import datasets\n",
    "\n",
    "import pandas as pd\n",
    "import numpy as np\n",
    "\n",
    "from causalinference import CausalModel"
   ]
  },
  {
   "cell_type": "code",
   "execution_count": 2,
   "metadata": {},
   "outputs": [],
   "source": [
    "data = datasets.linear_dataset(\n",
    "    beta=10,\n",
    "    num_common_causes=4,\n",
    "    num_samples=10_000,\n",
    "    treatment_is_binary=True,\n",
    "    outcome_is_binary=False,\n",
    ")\n",
    "\n",
    "df = data['df']\n",
    "df = df.rename({'v0': 'treatment', 'y': 'outcome'}, axis=1)\n",
    "df['treatment'] = df['treatment'].astype(int)"
   ]
  },
  {
   "cell_type": "code",
   "execution_count": 3,
   "metadata": {},
   "outputs": [
    {
     "data": {
      "text/html": [
       "<div>\n",
       "<style scoped>\n",
       "    .dataframe tbody tr th:only-of-type {\n",
       "        vertical-align: middle;\n",
       "    }\n",
       "\n",
       "    .dataframe tbody tr th {\n",
       "        vertical-align: top;\n",
       "    }\n",
       "\n",
       "    .dataframe thead th {\n",
       "        text-align: right;\n",
       "    }\n",
       "</style>\n",
       "<table border=\"1\" class=\"dataframe\">\n",
       "  <thead>\n",
       "    <tr style=\"text-align: right;\">\n",
       "      <th></th>\n",
       "      <th>W0</th>\n",
       "      <th>W1</th>\n",
       "      <th>W2</th>\n",
       "      <th>W3</th>\n",
       "      <th>treatment</th>\n",
       "      <th>outcome</th>\n",
       "    </tr>\n",
       "  </thead>\n",
       "  <tbody>\n",
       "    <tr>\n",
       "      <th>0</th>\n",
       "      <td>-2.410690</td>\n",
       "      <td>-1.941895</td>\n",
       "      <td>1.322482</td>\n",
       "      <td>2.095104</td>\n",
       "      <td>1</td>\n",
       "      <td>7.096365</td>\n",
       "    </tr>\n",
       "    <tr>\n",
       "      <th>1</th>\n",
       "      <td>-0.584717</td>\n",
       "      <td>-2.607352</td>\n",
       "      <td>-0.321803</td>\n",
       "      <td>-0.154031</td>\n",
       "      <td>0</td>\n",
       "      <td>-5.470646</td>\n",
       "    </tr>\n",
       "    <tr>\n",
       "      <th>2</th>\n",
       "      <td>-1.024231</td>\n",
       "      <td>-1.063797</td>\n",
       "      <td>-0.535115</td>\n",
       "      <td>-0.758109</td>\n",
       "      <td>0</td>\n",
       "      <td>-9.323665</td>\n",
       "    </tr>\n",
       "    <tr>\n",
       "      <th>3</th>\n",
       "      <td>0.846595</td>\n",
       "      <td>0.463510</td>\n",
       "      <td>0.583025</td>\n",
       "      <td>0.344339</td>\n",
       "      <td>1</td>\n",
       "      <td>17.306644</td>\n",
       "    </tr>\n",
       "    <tr>\n",
       "      <th>4</th>\n",
       "      <td>0.173637</td>\n",
       "      <td>-0.492804</td>\n",
       "      <td>0.079734</td>\n",
       "      <td>-0.264677</td>\n",
       "      <td>1</td>\n",
       "      <td>10.256141</td>\n",
       "    </tr>\n",
       "  </tbody>\n",
       "</table>\n",
       "</div>"
      ],
      "text/plain": [
       "         W0        W1        W2        W3  treatment    outcome\n",
       "0 -2.410690 -1.941895  1.322482  2.095104          1   7.096365\n",
       "1 -0.584717 -2.607352 -0.321803 -0.154031          0  -5.470646\n",
       "2 -1.024231 -1.063797 -0.535115 -0.758109          0  -9.323665\n",
       "3  0.846595  0.463510  0.583025  0.344339          1  17.306644\n",
       "4  0.173637 -0.492804  0.079734 -0.264677          1  10.256141"
      ]
     },
     "execution_count": 3,
     "metadata": {},
     "output_type": "execute_result"
    }
   ],
   "source": [
    "df.head()"
   ]
  },
  {
   "cell_type": "code",
   "execution_count": null,
   "metadata": {},
   "outputs": [],
   "source": []
  },
  {
   "cell_type": "code",
   "execution_count": 4,
   "metadata": {},
   "outputs": [
    {
     "name": "stdout",
     "output_type": "stream",
     "text": [
      "\n",
      "Summary Statistics\n",
      "\n",
      "                      Controls (N_c=6403)        Treated (N_t=3597)             \n",
      "       Variable         Mean         S.d.         Mean         S.d.     Raw-diff\n",
      "--------------------------------------------------------------------------------\n",
      "              Y       -5.627        4.886       14.390        4.256       20.017\n",
      "\n",
      "                      Controls (N_c=6403)        Treated (N_t=3597)             \n",
      "       Variable         Mean         S.d.         Mean         S.d.     Nor-diff\n",
      "--------------------------------------------------------------------------------\n",
      "             X0       -0.597        0.926        0.279        0.917        0.950\n",
      "             X1       -0.995        0.983       -0.704        0.985        0.296\n",
      "             X2       -0.270        0.909        0.630        0.891        1.000\n",
      "             X3       -0.513        0.896        0.437        0.851        1.087\n",
      "\n"
     ]
    }
   ],
   "source": [
    "causal = CausalModel(\n",
    "    Y=df['outcome'].values,\n",
    "    D=df['treatment'].values,\n",
    "    X=df[['W0', 'W1', 'W2', 'W3']].values,\n",
    ")\n",
    "\n",
    "print(causal.summary_stats)"
   ]
  },
  {
   "cell_type": "markdown",
   "metadata": {},
   "source": [
    "## propensity score estimation"
   ]
  },
  {
   "cell_type": "code",
   "execution_count": 6,
   "metadata": {},
   "outputs": [
    {
     "name": "stdout",
     "output_type": "stream",
     "text": [
      "\n",
      "Estimated Parameters of Propensity Score\n",
      "\n",
      "                    Coef.       S.e.          z      P>|z|      [95% Conf. int.]\n",
      "--------------------------------------------------------------------------------\n",
      "     Intercept      0.049      0.061      0.791      0.429     -0.072      0.169\n",
      "            X3      4.392      0.119     36.828      0.000      4.158      4.626\n",
      "            X2      4.108      0.112     36.789      0.000      3.889      4.326\n",
      "            X0      3.882      0.106     36.532      0.000      3.674      4.090\n",
      "            X1      1.296      0.056     22.955      0.000      1.185      1.406\n",
      "\n"
     ]
    }
   ],
   "source": [
    "causal.est_propensity_s()\n",
    "\n",
    "print(causal.propensity)"
   ]
  },
  {
   "cell_type": "markdown",
   "metadata": {},
   "source": [
    "## subclassification matching by propensity score stratification"
   ]
  },
  {
   "cell_type": "code",
   "execution_count": 9,
   "metadata": {},
   "outputs": [
    {
     "name": "stdout",
     "output_type": "stream",
     "text": [
      "\n",
      "Stratification Summary\n",
      "\n",
      "              Propensity Score         Sample Size     Ave. Propensity   Outcome\n",
      "   Stratum      Min.      Max.  Controls   Treated  Controls   Treated  Raw-diff\n",
      "--------------------------------------------------------------------------------\n",
      "         1     0.000     0.059      4967        34     0.006     0.030    13.597\n",
      "         2     0.059     0.165       558        67     0.100     0.106    10.455\n",
      "         3     0.165     0.267       258        55     0.210     0.214     9.450\n",
      "         4     0.267     0.410       194       118     0.334     0.342     9.755\n",
      "         5     0.411     0.571       158       155     0.486     0.496     9.964\n",
      "         6     0.571     0.722       114       198     0.645     0.653    10.275\n",
      "         7     0.723     0.830        75       238     0.778     0.779    10.451\n",
      "         8     0.831     0.852        19        59     0.841     0.842    10.835\n",
      "         9     0.852     0.874         5        73     0.869     0.864    12.061\n",
      "        10     0.874     0.904        15       141     0.888     0.887     9.711\n",
      "        11     0.904     1.000        40      2459     0.935     0.985    13.255\n",
      "\n"
     ]
    }
   ],
   "source": [
    "causal.stratify_s()\n",
    "\n",
    "print(causal.strata)"
   ]
  },
  {
   "cell_type": "markdown",
   "metadata": {},
   "source": [
    "## subclassification treatment effect estimation"
   ]
  },
  {
   "cell_type": "code",
   "execution_count": 11,
   "metadata": {},
   "outputs": [
    {
     "name": "stdout",
     "output_type": "stream",
     "text": [
      "\n",
      "Treatment Effect Estimates: Blocking\n",
      "\n",
      "                     Est.       S.e.          z      P>|z|      [95% Conf. int.]\n",
      "--------------------------------------------------------------------------------\n",
      "           ATE     10.000      0.001   9945.576      0.000      9.998     10.002\n",
      "           ATC     10.000      0.001   6856.463      0.000      9.997     10.003\n",
      "           ATT     10.000      0.001  10441.276      0.000      9.998     10.002\n",
      "\n"
     ]
    },
    {
     "name": "stderr",
     "output_type": "stream",
     "text": [
      "/Users/kai/anaconda3/lib/python3.10/site-packages/causalinference/estimators/ols.py:21: FutureWarning: `rcond` parameter will change to the default of machine precision times ``max(M, N)`` where M and N are the input matrix dimensions.\n",
      "To use the future default and silence this warning we advise to pass `rcond=None`, to keep using the old, explicitly pass `rcond=-1`.\n",
      "  olscoef = np.linalg.lstsq(Z, Y)[0]\n"
     ]
    }
   ],
   "source": [
    "causal.est_via_blocking()\n",
    "\n",
    "print(causal.estimates)"
   ]
  },
  {
   "cell_type": "code",
   "execution_count": null,
   "metadata": {},
   "outputs": [],
   "source": []
  },
  {
   "cell_type": "code",
   "execution_count": null,
   "metadata": {},
   "outputs": [],
   "source": []
  },
  {
   "cell_type": "code",
   "execution_count": null,
   "metadata": {},
   "outputs": [],
   "source": []
  }
 ],
 "metadata": {
  "kernelspec": {
   "display_name": "base",
   "language": "python",
   "name": "python3"
  },
  "language_info": {
   "codemirror_mode": {
    "name": "ipython",
    "version": 3
   },
   "file_extension": ".py",
   "mimetype": "text/x-python",
   "name": "python",
   "nbconvert_exporter": "python",
   "pygments_lexer": "ipython3",
   "version": "3.10.9"
  }
 },
 "nbformat": 4,
 "nbformat_minor": 2
}
