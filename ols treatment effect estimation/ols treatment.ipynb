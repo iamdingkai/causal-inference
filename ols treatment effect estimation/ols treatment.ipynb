{
 "cells": [
  {
   "cell_type": "code",
   "execution_count": null,
   "metadata": {},
   "outputs": [],
   "source": [
    "## Reference: https://www.youtube.com/watch?v=xekqR10lQNo\n",
    "## For personal study purposes only"
   ]
  },
  {
   "cell_type": "code",
   "execution_count": null,
   "metadata": {},
   "outputs": [],
   "source": []
  },
  {
   "cell_type": "code",
   "execution_count": 3,
   "metadata": {},
   "outputs": [],
   "source": [
    "from dowhy import datasets\n",
    "\n",
    "import pandas as pd\n",
    "import numpy as np\n",
    "\n",
    "from causalinference import CausalModel"
   ]
  },
  {
   "cell_type": "code",
   "execution_count": null,
   "metadata": {},
   "outputs": [],
   "source": []
  },
  {
   "cell_type": "markdown",
   "metadata": {},
   "source": [
    "## Create Dataset"
   ]
  },
  {
   "cell_type": "code",
   "execution_count": 14,
   "metadata": {},
   "outputs": [
    {
     "data": {
      "text/html": [
       "<div>\n",
       "<style scoped>\n",
       "    .dataframe tbody tr th:only-of-type {\n",
       "        vertical-align: middle;\n",
       "    }\n",
       "\n",
       "    .dataframe tbody tr th {\n",
       "        vertical-align: top;\n",
       "    }\n",
       "\n",
       "    .dataframe thead th {\n",
       "        text-align: right;\n",
       "    }\n",
       "</style>\n",
       "<table border=\"1\" class=\"dataframe\">\n",
       "  <thead>\n",
       "    <tr style=\"text-align: right;\">\n",
       "      <th></th>\n",
       "      <th>W0</th>\n",
       "      <th>W1</th>\n",
       "      <th>W2</th>\n",
       "      <th>W3</th>\n",
       "      <th>treatment</th>\n",
       "      <th>outcome</th>\n",
       "    </tr>\n",
       "  </thead>\n",
       "  <tbody>\n",
       "    <tr>\n",
       "      <th>0</th>\n",
       "      <td>0.314915</td>\n",
       "      <td>-0.094394</td>\n",
       "      <td>-2.343535</td>\n",
       "      <td>-0.604731</td>\n",
       "      <td>0</td>\n",
       "      <td>-7.852001</td>\n",
       "    </tr>\n",
       "    <tr>\n",
       "      <th>1</th>\n",
       "      <td>-0.509568</td>\n",
       "      <td>0.029425</td>\n",
       "      <td>0.428977</td>\n",
       "      <td>0.696640</td>\n",
       "      <td>1</td>\n",
       "      <td>10.346186</td>\n",
       "    </tr>\n",
       "    <tr>\n",
       "      <th>2</th>\n",
       "      <td>1.129318</td>\n",
       "      <td>0.541612</td>\n",
       "      <td>-0.579068</td>\n",
       "      <td>0.002772</td>\n",
       "      <td>1</td>\n",
       "      <td>15.421845</td>\n",
       "    </tr>\n",
       "    <tr>\n",
       "      <th>3</th>\n",
       "      <td>1.289633</td>\n",
       "      <td>-1.115158</td>\n",
       "      <td>0.233141</td>\n",
       "      <td>-1.939350</td>\n",
       "      <td>0</td>\n",
       "      <td>0.404312</td>\n",
       "    </tr>\n",
       "    <tr>\n",
       "      <th>4</th>\n",
       "      <td>2.288021</td>\n",
       "      <td>-1.096157</td>\n",
       "      <td>-0.198825</td>\n",
       "      <td>-0.496505</td>\n",
       "      <td>1</td>\n",
       "      <td>17.252010</td>\n",
       "    </tr>\n",
       "  </tbody>\n",
       "</table>\n",
       "</div>"
      ],
      "text/plain": [
       "         W0        W1        W2        W3  treatment    outcome\n",
       "0  0.314915 -0.094394 -2.343535 -0.604731          0  -7.852001\n",
       "1 -0.509568  0.029425  0.428977  0.696640          1  10.346186\n",
       "2  1.129318  0.541612 -0.579068  0.002772          1  15.421845\n",
       "3  1.289633 -1.115158  0.233141 -1.939350          0   0.404312\n",
       "4  2.288021 -1.096157 -0.198825 -0.496505          1  17.252010"
      ]
     },
     "execution_count": 14,
     "metadata": {},
     "output_type": "execute_result"
    }
   ],
   "source": [
    "data = datasets.linear_dataset(\n",
    "    beta=10,\n",
    "    num_common_causes=4,\n",
    "    num_samples=10_000,\n",
    "    treatment_is_binary=True,\n",
    "    outcome_is_binary=False,\n",
    ")\n",
    "\n",
    "df = data['df']\n",
    "df = df.rename({'v0': 'treatment', 'y': 'outcome'}, axis=1)\n",
    "df['treatment'] = df['treatment'].astype(int)\n",
    "\n",
    "df.head()"
   ]
  },
  {
   "cell_type": "code",
   "execution_count": null,
   "metadata": {},
   "outputs": [],
   "source": []
  },
  {
   "cell_type": "markdown",
   "metadata": {},
   "source": [
    "## Raw Difference"
   ]
  },
  {
   "cell_type": "code",
   "execution_count": 16,
   "metadata": {},
   "outputs": [
    {
     "name": "stdout",
     "output_type": "stream",
     "text": [
      "\n",
      "Summary Statistics\n",
      "\n",
      "                      Controls (N_c=5591)        Treated (N_t=4409)             \n",
      "       Variable         Mean         S.d.         Mean         S.d.     Raw-diff\n",
      "--------------------------------------------------------------------------------\n",
      "              Y       -5.262        5.185       14.468        5.132       19.731\n",
      "\n",
      "                      Controls (N_c=5591)        Treated (N_t=4409)             \n",
      "       Variable         Mean         S.d.         Mean         S.d.     Nor-diff\n",
      "--------------------------------------------------------------------------------\n",
      "             X0        0.168        0.876        1.183        0.861        1.169\n",
      "             X1       -0.265        0.990       -0.036        1.008        0.229\n",
      "             X2       -1.156        0.946       -0.650        0.968        0.529\n",
      "             X3       -0.705        0.887        0.280        0.885        1.112\n",
      "\n"
     ]
    }
   ],
   "source": [
    "causal = CausalModel(\n",
    "    Y=df['outcome'].values,\n",
    "    D=df['treatment'].values,\n",
    "    X=df[['W0', 'W1', 'W2', 'W3']].values,\n",
    ")\n",
    "\n",
    "print(causal.summary_stats)"
   ]
  },
  {
   "cell_type": "code",
   "execution_count": null,
   "metadata": {},
   "outputs": [],
   "source": []
  },
  {
   "cell_type": "markdown",
   "metadata": {},
   "source": [
    "## Treatment Effect using OLS"
   ]
  },
  {
   "cell_type": "code",
   "execution_count": 19,
   "metadata": {},
   "outputs": [
    {
     "name": "stdout",
     "output_type": "stream",
     "text": [
      "adj=0 \n",
      "Treatment Effect Estimates: OLS\n",
      "\n",
      "                     Est.       S.e.          z      P>|z|      [95% Conf. int.]\n",
      "--------------------------------------------------------------------------------\n",
      "           ATE     19.731      0.104    190.038      0.000     19.527     19.934\n",
      "\n",
      "adj=1 \n",
      "Treatment Effect Estimates: OLS\n",
      "\n",
      "                     Est.       S.e.          z      P>|z|      [95% Conf. int.]\n",
      "--------------------------------------------------------------------------------\n",
      "           ATE     10.000      0.000  32276.321      0.000      9.999     10.001\n",
      "\n",
      "adj=2 \n",
      "Treatment Effect Estimates: OLS\n",
      "\n",
      "                     Est.       S.e.          z      P>|z|      [95% Conf. int.]\n",
      "--------------------------------------------------------------------------------\n",
      "           ATE     10.000      0.000  31816.835      0.000      9.999     10.000\n",
      "           ATC      9.999      0.000  24594.510      0.000      9.999     10.000\n",
      "           ATT     10.000      0.000  26664.389      0.000     10.000     10.001\n",
      "\n"
     ]
    }
   ],
   "source": [
    "causal.est_via_ols(adj=0)\n",
    "print('adj=0', causal.estimates)\n",
    "\n",
    "\n",
    "causal.est_via_ols(adj=1)\n",
    "print('adj=1', causal.estimates)\n",
    "\n",
    "causal.est_via_ols(adj=2)\n",
    "print('adj=2', causal.estimates)"
   ]
  },
  {
   "cell_type": "code",
   "execution_count": null,
   "metadata": {},
   "outputs": [],
   "source": []
  },
  {
   "cell_type": "code",
   "execution_count": null,
   "metadata": {},
   "outputs": [],
   "source": []
  },
  {
   "cell_type": "code",
   "execution_count": null,
   "metadata": {},
   "outputs": [],
   "source": []
  },
  {
   "cell_type": "code",
   "execution_count": null,
   "metadata": {},
   "outputs": [],
   "source": []
  },
  {
   "cell_type": "code",
   "execution_count": null,
   "metadata": {},
   "outputs": [],
   "source": []
  },
  {
   "cell_type": "code",
   "execution_count": null,
   "metadata": {},
   "outputs": [],
   "source": []
  }
 ],
 "metadata": {
  "kernelspec": {
   "display_name": "base",
   "language": "python",
   "name": "python3"
  },
  "language_info": {
   "codemirror_mode": {
    "name": "ipython",
    "version": 3
   },
   "file_extension": ".py",
   "mimetype": "text/x-python",
   "name": "python",
   "nbconvert_exporter": "python",
   "pygments_lexer": "ipython3",
   "version": "3.10.9"
  }
 },
 "nbformat": 4,
 "nbformat_minor": 2
}
