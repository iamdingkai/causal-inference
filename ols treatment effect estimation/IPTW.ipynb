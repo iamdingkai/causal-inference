{
 "cells": [
  {
   "cell_type": "code",
   "execution_count": null,
   "metadata": {},
   "outputs": [],
   "source": [
    "## Reference: https://www.youtube.com/watch?v=xekqR10lQNo\n",
    "## For personal study purposes only"
   ]
  },
  {
   "cell_type": "code",
   "execution_count": 1,
   "metadata": {},
   "outputs": [],
   "source": [
    "from dowhy import datasets\n",
    "\n",
    "import pandas as pd\n",
    "import numpy as np\n",
    "\n",
    "from causalinference import CausalModel"
   ]
  },
  {
   "cell_type": "code",
   "execution_count": 2,
   "metadata": {},
   "outputs": [],
   "source": [
    "data = datasets.linear_dataset(\n",
    "    beta=10,\n",
    "    num_common_causes=4,\n",
    "    num_samples=10_000,\n",
    "    treatment_is_binary=True,\n",
    "    outcome_is_binary=False,\n",
    ")\n",
    "\n",
    "df = data['df']\n",
    "df = df.rename({'v0': 'treatment', 'y': 'outcome'}, axis=1)\n",
    "df['treatment'] = df['treatment'].astype(int)"
   ]
  },
  {
   "cell_type": "code",
   "execution_count": 3,
   "metadata": {},
   "outputs": [
    {
     "name": "stdout",
     "output_type": "stream",
     "text": [
      "\n",
      "Summary Statistics\n",
      "\n",
      "                      Controls (N_c=3391)        Treated (N_t=6609)             \n",
      "       Variable         Mean         S.d.         Mean         S.d.     Raw-diff\n",
      "--------------------------------------------------------------------------------\n",
      "              Y       -2.725        5.172       18.035        5.828       20.760\n",
      "\n",
      "                      Controls (N_c=3391)        Treated (N_t=6609)             \n",
      "       Variable         Mean         S.d.         Mean         S.d.     Nor-diff\n",
      "--------------------------------------------------------------------------------\n",
      "             X0       -0.609        0.756        0.637        0.826        1.573\n",
      "             X1        0.340        1.002        0.466        1.001        0.126\n",
      "             X2        0.318        1.006        0.447        1.005        0.129\n",
      "             X3       -0.233        0.893        0.645        0.922        0.967\n",
      "\n"
     ]
    }
   ],
   "source": [
    "causal = CausalModel(\n",
    "    Y=df['outcome'].values,\n",
    "    D=df['treatment'].values,\n",
    "    X=df[['W0', 'W1', 'W2', 'W3']].values,\n",
    ")\n",
    "\n",
    "print(causal.summary_stats)"
   ]
  },
  {
   "cell_type": "code",
   "execution_count": 5,
   "metadata": {},
   "outputs": [
    {
     "name": "stdout",
     "output_type": "stream",
     "text": [
      "\n",
      "Estimated Parameters of Propensity Score\n",
      "\n",
      "                    Coef.       S.e.          z      P>|z|      [95% Conf. int.]\n",
      "--------------------------------------------------------------------------------\n",
      "     Intercept     -0.065      0.051     -1.283      0.200     -0.165      0.034\n",
      "            X0      3.850      0.090     42.608      0.000      3.673      4.028\n",
      "            X3      2.671      0.070     38.347      0.000      2.535      2.808\n",
      "            X2      0.485      0.038     12.713      0.000      0.410      0.560\n",
      "            X1      0.376      0.039      9.651      0.000      0.300      0.452\n",
      "         X3*X1     -0.116      0.044     -2.623      0.009     -0.202     -0.029\n",
      "         X0*X0      0.109      0.064      1.697      0.090     -0.017      0.235\n",
      "\n"
     ]
    }
   ],
   "source": [
    "causal.est_propensity_s()\n",
    "print(causal.propensity)"
   ]
  },
  {
   "cell_type": "code",
   "execution_count": null,
   "metadata": {},
   "outputs": [],
   "source": []
  },
  {
   "cell_type": "markdown",
   "metadata": {},
   "source": [
    "## weights:\n",
    "\n",
    "* units with treatment: weight = 1/propensity\n",
    "* units without treatment: weight = 1/(1-propensity)"
   ]
  },
  {
   "cell_type": "code",
   "execution_count": 7,
   "metadata": {},
   "outputs": [
    {
     "name": "stdout",
     "output_type": "stream",
     "text": [
      "\n",
      "Treatment Effect Estimates: Weighting\n",
      "\n",
      "                     Est.       S.e.          z      P>|z|      [95% Conf. int.]\n",
      "--------------------------------------------------------------------------------\n",
      "           ATE     10.002      0.002   6158.075      0.000      9.998     10.005\n",
      "\n"
     ]
    },
    {
     "name": "stderr",
     "output_type": "stream",
     "text": [
      "/Users/kai/anaconda3/lib/python3.10/site-packages/causalinference/estimators/weighting.py:23: FutureWarning: `rcond` parameter will change to the default of machine precision times ``max(M, N)`` where M and N are the input matrix dimensions.\n",
      "To use the future default and silence this warning we advise to pass `rcond=None`, to keep using the old, explicitly pass `rcond=-1`.\n",
      "  wlscoef = np.linalg.lstsq(Z_w, Y_w)[0]\n"
     ]
    }
   ],
   "source": [
    "causal.est_via_weighting() # IPTW\n",
    "\n",
    "print(causal.estimates)"
   ]
  },
  {
   "cell_type": "code",
   "execution_count": null,
   "metadata": {},
   "outputs": [],
   "source": []
  },
  {
   "cell_type": "code",
   "execution_count": null,
   "metadata": {},
   "outputs": [],
   "source": []
  },
  {
   "cell_type": "code",
   "execution_count": null,
   "metadata": {},
   "outputs": [],
   "source": []
  },
  {
   "cell_type": "code",
   "execution_count": null,
   "metadata": {},
   "outputs": [],
   "source": []
  }
 ],
 "metadata": {
  "kernelspec": {
   "display_name": "base",
   "language": "python",
   "name": "python3"
  },
  "language_info": {
   "codemirror_mode": {
    "name": "ipython",
    "version": 3
   },
   "file_extension": ".py",
   "mimetype": "text/x-python",
   "name": "python",
   "nbconvert_exporter": "python",
   "pygments_lexer": "ipython3",
   "version": "3.10.9"
  }
 },
 "nbformat": 4,
 "nbformat_minor": 2
}
