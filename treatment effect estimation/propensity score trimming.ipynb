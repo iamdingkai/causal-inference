{
 "cells": [
  {
   "cell_type": "code",
   "execution_count": null,
   "metadata": {},
   "outputs": [],
   "source": [
    "## Reference: https://www.youtube.com/watch?v=xekqR10lQNo\n",
    "## For personal study purposes only"
   ]
  },
  {
   "cell_type": "code",
   "execution_count": 1,
   "metadata": {},
   "outputs": [],
   "source": [
    "from dowhy import datasets\n",
    "\n",
    "import pandas as pd\n",
    "import numpy as np\n",
    "\n",
    "from causalinference import CausalModel"
   ]
  },
  {
   "cell_type": "code",
   "execution_count": 2,
   "metadata": {},
   "outputs": [],
   "source": [
    "data = datasets.linear_dataset(\n",
    "    beta=10,\n",
    "    num_common_causes=4,\n",
    "    num_samples=10_000,\n",
    "    treatment_is_binary=True,\n",
    "    outcome_is_binary=False,\n",
    ")\n",
    "\n",
    "df = data['df']\n",
    "df = df.rename({'v0': 'treatment', 'y': 'outcome'}, axis=1)\n",
    "df['treatment'] = df['treatment'].astype(int)"
   ]
  },
  {
   "cell_type": "code",
   "execution_count": 3,
   "metadata": {},
   "outputs": [
    {
     "name": "stdout",
     "output_type": "stream",
     "text": [
      "\n",
      "Summary Statistics\n",
      "\n",
      "                      Controls (N_c=6030)        Treated (N_t=3970)             \n",
      "       Variable         Mean         S.d.         Mean         S.d.     Raw-diff\n",
      "--------------------------------------------------------------------------------\n",
      "              Y       -3.910        3.680       14.147        3.335       18.057\n",
      "\n",
      "                      Controls (N_c=6030)        Treated (N_t=3970)             \n",
      "       Variable         Mean         S.d.         Mean         S.d.     Nor-diff\n",
      "--------------------------------------------------------------------------------\n",
      "             X0       -0.964        0.911       -0.168        0.909        0.875\n",
      "             X1       -1.046        0.979       -0.614        0.973        0.443\n",
      "             X2        0.578        0.890        1.538        0.871        1.090\n",
      "             X3       -0.849        0.926       -0.068        0.906        0.854\n",
      "\n"
     ]
    }
   ],
   "source": [
    "causal = CausalModel(\n",
    "    Y=df['outcome'].values,\n",
    "    D=df['treatment'].values,\n",
    "    X=df[['W0', 'W1', 'W2', 'W3']].values,\n",
    ")\n",
    "\n",
    "print(causal.summary_stats)"
   ]
  },
  {
   "cell_type": "code",
   "execution_count": 6,
   "metadata": {},
   "outputs": [
    {
     "name": "stdout",
     "output_type": "stream",
     "text": [
      "\n",
      "Estimated Parameters of Propensity Score\n",
      "\n",
      "                    Coef.       S.e.          z      P>|z|      [95% Conf. int.]\n",
      "--------------------------------------------------------------------------------\n",
      "     Intercept      0.034      0.078      0.433      0.665     -0.120      0.188\n",
      "            X2      4.009      0.102     39.396      0.000      3.810      4.209\n",
      "            X0      3.364      0.088     38.148      0.000      3.191      3.537\n",
      "            X3      3.299      0.095     34.835      0.000      3.114      3.485\n",
      "            X1      1.886      0.064     29.460      0.000      1.760      2.011\n",
      "         X3*X1      0.107      0.048      2.220      0.026      0.013      0.201\n",
      "\n"
     ]
    }
   ],
   "source": [
    "## propensity score estimation\n",
    "\n",
    "causal.est_propensity_s()\n",
    "print(causal.propensity)"
   ]
  },
  {
   "cell_type": "code",
   "execution_count": 13,
   "metadata": {},
   "outputs": [],
   "source": [
    "import seaborn as sns"
   ]
  },
  {
   "cell_type": "code",
   "execution_count": 17,
   "metadata": {},
   "outputs": [
    {
     "data": {
      "text/plain": [
       "<Axes: xlabel='propensity', ylabel='Probability'>"
      ]
     },
     "execution_count": 17,
     "metadata": {},
     "output_type": "execute_result"
    },
    {
     "data": {
      "image/png": "[encoded data removed]",
      "text/plain": [
       "<Figure size 640x480 with 1 Axes>"
      ]
     },
     "metadata": {},
     "output_type": "display_data"
    }
   ],
   "source": [
    "df['propensity'] = causal.propensity['fitted']\n",
    "\n",
    "sns.histplot(\n",
    "    data =df, x='propensity', \n",
    "    hue='treatment', stat='probability', common_norm=False,\n",
    ")"
   ]
  },
  {
   "cell_type": "code",
   "execution_count": 7,
   "metadata": {},
   "outputs": [
    {
     "data": {
      "image/png": "[encoded data removed]",
      "text/latex": [
       "$\\displaystyle 0.1$"
      ],
      "text/plain": [
       "0.1"
      ]
     },
     "execution_count": 7,
     "metadata": {},
     "output_type": "execute_result"
    }
   ],
   "source": [
    "causal.cutoff"
   ]
  },
  {
   "cell_type": "code",
   "execution_count": 18,
   "metadata": {},
   "outputs": [],
   "source": [
    "causal.trim_s()"
   ]
  },
  {
   "cell_type": "code",
   "execution_count": 23,
   "metadata": {},
   "outputs": [
    {
     "data": {
      "image/png": "[encoded data removed]",
      "text/latex": [
       "$\\displaystyle \\left( 10000, \\  2.12127733422454 \\cdot 10^{-11}, \\  0.999999999370485\\right)$"
      ],
      "text/plain": [
       "(10000, 2.1212773342245444e-11, 0.9999999993704849)"
      ]
     },
     "execution_count": 23,
     "metadata": {},
     "output_type": "execute_result"
    }
   ],
   "source": [
    "len(causal.propensity['fitted']), np.min(causal.propensity['fitted']), np.max(causal.propensity['fitted'])"
   ]
  },
  {
   "cell_type": "code",
   "execution_count": 19,
   "metadata": {},
   "outputs": [
    {
     "data": {
      "text/plain": [
       "<Axes: xlabel='propensity', ylabel='Probability'>"
      ]
     },
     "execution_count": 19,
     "metadata": {},
     "output_type": "execute_result"
    },
    {
     "data": {
      "image/png": "[encoded data removed]",
      "text/plain": [
       "<Figure size 640x480 with 1 Axes>"
      ]
     },
     "metadata": {},
     "output_type": "display_data"
    }
   ],
   "source": [
    "df['propensity'] = causal.propensity['fitted']\n",
    "\n",
    "sns.histplot(\n",
    "    data =df, x='propensity', \n",
    "    hue='treatment', stat='probability', common_norm=False,\n",
    ")"
   ]
  },
  {
   "cell_type": "code",
   "execution_count": 24,
   "metadata": {},
   "outputs": [
    {
     "name": "stdout",
     "output_type": "stream",
     "text": [
      "\n",
      "Summary Statistics\n",
      "\n",
      "                      Controls (N_c=1457)        Treated (N_t=1352)             \n",
      "       Variable         Mean         S.d.         Mean         S.d.     Raw-diff\n",
      "--------------------------------------------------------------------------------\n",
      "              Y        0.046        1.270       11.212        1.282       11.167\n",
      "\n",
      "                      Controls (N_c=1457)        Treated (N_t=1352)             \n",
      "       Variable         Mean         S.d.         Mean         S.d.     Nor-diff\n",
      "--------------------------------------------------------------------------------\n",
      "             X0       -0.584        0.844       -0.457        0.841        0.150\n",
      "             X1       -0.825        0.954       -0.767        0.928        0.062\n",
      "             X2        1.060        0.808        1.193        0.779        0.167\n",
      "             X3       -0.479        0.873       -0.362        0.856        0.136\n",
      "\n"
     ]
    }
   ],
   "source": [
    "print(causal.summary_stats)"
   ]
  },
  {
   "cell_type": "code",
   "execution_count": null,
   "metadata": {},
   "outputs": [],
   "source": []
  },
  {
   "cell_type": "code",
   "execution_count": null,
   "metadata": {},
   "outputs": [],
   "source": []
  },
  {
   "cell_type": "code",
   "execution_count": null,
   "metadata": {},
   "outputs": [],
   "source": []
  },
  {
   "cell_type": "code",
   "execution_count": null,
   "metadata": {},
   "outputs": [],
   "source": []
  },
  {
   "cell_type": "code",
   "execution_count": null,
   "metadata": {},
   "outputs": [],
   "source": []
  },
  {
   "cell_type": "code",
   "execution_count": null,
   "metadata": {},
   "outputs": [],
   "source": []
  },
  {
   "cell_type": "code",
   "execution_count": null,
   "metadata": {},
   "outputs": [],
   "source": []
  }
 ],
 "metadata": {
  "kernelspec": {
   "display_name": "base",
   "language": "python",
   "name": "python3"
  },
  "language_info": {
   "codemirror_mode": {
    "name": "ipython",
    "version": 3
   },
   "file_extension": ".py",
   "mimetype": "text/x-python",
   "name": "python",
   "nbconvert_exporter": "python",
   "pygments_lexer": "ipython3",
   "version": "3.10.9"
  }
 },
 "nbformat": 4,
 "nbformat_minor": 2
}
